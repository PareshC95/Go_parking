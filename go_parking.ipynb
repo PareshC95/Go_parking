{
 "cells": [
  {
   "cell_type": "markdown",
   "metadata": {},
   "source": [
    "# GoParking\n",
    "\n",
    "### Goditi la città, noi pensiamo al resto\n",
    "\n",
    "Vogliamo un software che:\n",
    "\n",
    "- accetti auto **all'ingresso**\n",
    "\n",
    "    - prende la targa\n",
    "\n",
    "    - l'orario d'ingresso\n",
    "\n",
    "    - chieda il brand\n",
    "\n",
    "    - indichi un piano (tutte le panda vanno al 5° piano fino a riempimento)\n",
    "\n",
    "- **lasci uscire** la macchina\n",
    "\n",
    "    - calcola il totale dovuto fino ad ora completata\n",
    "\n",
    "- **aggiorni** il suo 'Database'"
   ]
  },
  {
   "cell_type": "code",
   "execution_count": 366,
   "metadata": {},
   "outputs": [],
   "source": [
    "from datetime import datetime"
   ]
  },
  {
   "cell_type": "code",
   "execution_count": 367,
   "metadata": {},
   "outputs": [],
   "source": [
    "parking = {\n",
    "\n",
    "    '1': {'max_capacity':20, 'cars_in': 7, 'price_per_hour': 2.5, 'brands':'all'},\n",
    "\n",
    "    '2': {'max_capacity':15, 'cars_in': 4, 'price_per_hour': 3.0, 'brands':'all'},\n",
    "\n",
    "    '3': {'max_capacity':10, 'cars_in': 2, 'price_per_hour': 4.0, 'brands':'all'},\n",
    "\n",
    "    '4': {'max_capacity':25, 'cars_in': 10, 'price_per_hour': 1.5, 'brands':'all'},\n",
    "\n",
    "    '5': {'max_capacity':20, 'cars_in': 15, 'price_per_hour': 7.0 , 'brands':'panda 4x4'},\n",
    "\n",
    "}"
   ]
  },
  {
   "cell_type": "code",
   "execution_count": 368,
   "metadata": {},
   "outputs": [],
   "source": [
    "cars = {'CA385NN': {'ingresso':  datetime.strptime(f\"14/04/2025 10:25\", \"%d/%m/%Y %H:%M\"), 'piano': '1'},\n",
    "        'CA123NN': {'ingresso':  datetime.strptime(f\"14/04/2025 10:25\", \"%d/%m/%Y %H:%M\"), 'piano': '2'},\n",
    "        'CA456NN': {'ingresso':  datetime.strptime('14:55', \"%H:%M\"), 'piano': '3'},\n",
    "        'CA789NN': {'ingresso':  datetime.strptime('15:00', \"%H:%M\"), 'piano': '4'},\n",
    "        'CA101NN': {'ingresso':  datetime.strptime('15:05', \"%H:%M\"), 'piano': '5'},\n",
    "        'CA112NN': {'ingresso':  datetime.strptime('15:10', \"%H:%M\"), 'piano': '1'},\n",
    "        'CA123NN': {'ingresso':  datetime.strptime('15:15', \"%H:%M\"), 'piano': '2'},\n",
    "        'CA456NN': {'ingresso':  datetime.strptime('15:25', \"%H:%M\"), 'piano': '3'},\n",
    "        'CA789NN': {'ingresso':  datetime.strptime('15:30', \"%H:%M\"), 'piano': '4'},\n",
    "        'CA101NN': {'ingresso':  datetime.strptime('15:35', \"%H:%M\"), 'piano': '5'}\n",
    "}"
   ]
  },
  {
   "cell_type": "code",
   "execution_count": 369,
   "metadata": {},
   "outputs": [],
   "source": [
    "level_order = ['3','2','1','4']\n"
   ]
  },
  {
   "cell_type": "markdown",
   "metadata": {},
   "source": [
    "Check if a place is available on a specific level>"
   ]
  },
  {
   "cell_type": "code",
   "execution_count": 370,
   "metadata": {},
   "outputs": [],
   "source": [
    "def check_level_availability(level):\n",
    "    return parking[level]['max_capacity'] - parking[level]['cars_in'] > 0 "
   ]
  },
  {
   "cell_type": "markdown",
   "metadata": {},
   "source": [
    "Check if a place is available in whole parking>"
   ]
  },
  {
   "cell_type": "code",
   "execution_count": 371,
   "metadata": {},
   "outputs": [],
   "source": [
    "def availability():\n",
    "    for level in parking:\n",
    "       if check_level_availability(level): \n",
    "           return True "
   ]
  },
  {
   "cell_type": "markdown",
   "metadata": {},
   "source": [
    "Ask the question>"
   ]
  },
  {
   "cell_type": "code",
   "execution_count": 372,
   "metadata": {},
   "outputs": [],
   "source": [
    "def make_question(question, accepted_answers = ['y','n','q']):\n",
    "    answer = input(question)\n",
    "    if not answer in accepted_answers:\n",
    "        print('Non accettata la risposta')\n",
    "        answer = make_question(question, accepted_answers)\n",
    "    return answer \n",
    "\n"
   ]
  },
  {
   "cell_type": "code",
   "execution_count": 373,
   "metadata": {},
   "outputs": [],
   "source": [
    "def check_panda_level():\n",
    "    available_panda_spots = parking['5']['max_capacity'] - parking['5']['cars_in']    \n",
    "    return available_panda_spots > 0\n",
    "    "
   ]
  },
  {
   "cell_type": "code",
   "execution_count": 374,
   "metadata": {},
   "outputs": [
    {
     "data": {
      "text/plain": [
       "True"
      ]
     },
     "execution_count": 374,
     "metadata": {},
     "output_type": "execute_result"
    }
   ],
   "source": [
    "##check\n",
    "check_level_availability('5')"
   ]
  },
  {
   "cell_type": "markdown",
   "metadata": {},
   "source": [
    "##suggest the floor>"
   ]
  },
  {
   "cell_type": "code",
   "execution_count": 375,
   "metadata": {},
   "outputs": [],
   "source": [
    "def suggest_level(panda_answer):\n",
    "    if panda_answer == 'y' and check_level_availability('5'):\n",
    "        return '5'\n",
    "    else:\n",
    "        for l in level_order:\n",
    "            if check_level_availability(l):\n",
    "                return l \n"
   ]
  },
  {
   "cell_type": "markdown",
   "metadata": {},
   "source": [
    "Ask number plate> (make sure everything is capital)"
   ]
  },
  {
   "cell_type": "code",
   "execution_count": 376,
   "metadata": {},
   "outputs": [],
   "source": [
    "def get_plate():\n",
    "    plate = input('inserisci targa')\n",
    "    if plate[:2].isalpha() and plate[2:5].isdigit() and plate[-2:].isalpha():\n",
    "        return plate.upper()\n",
    "    return get_plate()"
   ]
  },
  {
   "cell_type": "markdown",
   "metadata": {},
   "source": [
    "Mark in time of the car>"
   ]
  },
  {
   "cell_type": "code",
   "execution_count": 377,
   "metadata": {},
   "outputs": [],
   "source": [
    "def get_time():\n",
    "    return datetime.now()\n",
    "    "
   ]
  },
  {
   "cell_type": "code",
   "execution_count": 378,
   "metadata": {},
   "outputs": [],
   "source": [
    "def add_to_plates(plate, entry_time, level):\n",
    "    cars[plate] = {'ingresso' : entry_time, 'piano' : level}"
   ]
  },
  {
   "cell_type": "markdown",
   "metadata": {},
   "source": [
    "Too add the car in the parking"
   ]
  },
  {
   "cell_type": "code",
   "execution_count": 379,
   "metadata": {},
   "outputs": [],
   "source": [
    "def add_to_parking(level):\n",
    "    parking[level]['cars_in'] += 1 "
   ]
  },
  {
   "cell_type": "code",
   "execution_count": 380,
   "metadata": {},
   "outputs": [],
   "source": [
    "def car_in():\n",
    "      answer = make_question('Hai una panda?')\n",
    "      level = suggest_level(answer)\n",
    "      print(f'assegnato il livello {level}')   \n",
    "      plate = get_plate()     \n",
    "      time = get_time()\n",
    "      add_to_plates(plate = plate, entry_time = time, level = level)\n",
    "      add_to_parking(level) "
   ]
  },
  {
   "cell_type": "markdown",
   "metadata": {},
   "source": [
    "To take the car out from the database"
   ]
  },
  {
   "cell_type": "code",
   "execution_count": 386,
   "metadata": {},
   "outputs": [],
   "source": [
    "def cars_out():\n",
    "    parking[level]['cars_in'] -=1"
   ]
  },
  {
   "cell_type": "code",
   "execution_count": 387,
   "metadata": {},
   "outputs": [
    {
     "name": "stdout",
     "output_type": "stream",
     "text": [
      "1 day, 9:22:21.002769\n",
      "85.0\n",
      "Arrivederci\n"
     ]
    }
   ],
   "source": [
    "answer = make_question('Stai entrando?')\n",
    "if answer == 'y' and availability():\n",
    "    car_in()\n",
    "elif answer == 'n':\n",
    "    plates = cars.keys()\n",
    "    plate = make_question('Inserisci targa', plates)\n",
    "    entry_time = cars[plate]['ingresso']\n",
    "    level = cars[plate]['piano']\n",
    "    price_per_hour = parking[level]['price_per_hour']\n",
    "    current_time = get_time()\n",
    "    duration = current_time - entry_time\n",
    "    print(duration)\n",
    "    ore_intere = int(duration.total_seconds()/3600) +1 \n",
    "    total_price = ore_intere * price_per_hour\n",
    "    cars_out()\n",
    "    print(total_price)\n",
    "    print(\"Arrivederci\")"
   ]
  },
  {
   "cell_type": "code",
   "execution_count": 1,
   "metadata": {},
   "outputs": [
    {
     "name": "stdout",
     "output_type": "stream",
     "text": [
      "Arrivederci\n"
     ]
    }
   ],
   "source": [
    "print('Arrivederci')"
   ]
  },
  {
   "cell_type": "markdown",
   "metadata": {},
   "source": [
    "Exit"
   ]
  }
 ],
 "metadata": {
  "kernelspec": {
   "display_name": "Python 3",
   "language": "python",
   "name": "python3"
  },
  "language_info": {
   "codemirror_mode": {
    "name": "ipython",
    "version": 3
   },
   "file_extension": ".py",
   "mimetype": "text/x-python",
   "name": "python",
   "nbconvert_exporter": "python",
   "pygments_lexer": "ipython3",
   "version": "3.13.2"
  }
 },
 "nbformat": 4,
 "nbformat_minor": 2
}
